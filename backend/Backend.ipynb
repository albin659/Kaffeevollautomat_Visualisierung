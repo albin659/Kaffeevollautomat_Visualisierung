{
 "cells": [
  {
   "cell_type": "code",
   "execution_count": 1,
   "id": "488b53c1",
   "metadata": {},
   "outputs": [],
   "source": [
    "# Imports\n",
    "\n",
    "import time"
   ]
  },
  {
   "cell_type": "markdown",
   "id": "943cec74",
   "metadata": {},
   "source": [
    "Diplomarbeit Kaffeevollautomat\n",
    "\n",
    "Datenschema + Demodaten"
   ]
  },
  {
   "cell_type": "markdown",
   "id": "afbb8dbc",
   "metadata": {},
   "source": [
    "Betriebsbereite Maschine\n",
    "\n",
    "Maschine reinigt sich 0:02 - 0:57\n",
    "\n",
    "0:22 - 0:27 Brühgruppe fährt nach oben\n",
    "0:33 - 0:51 Wasser läuft durch die Maschine und kommt vorne wieder raus\n",
    "0:51 - 0:56 Brühgruppe fährt wieder nach unten"
   ]
  },
  {
   "cell_type": "code",
   "execution_count": null,
   "id": "8cdc2bf2",
   "metadata": {},
   "outputs": [],
   "source": []
  },
  {
   "cell_type": "markdown",
   "id": "0697641d",
   "metadata": {},
   "source": [
    "Betriebsbereite Maschine\n",
    "\n",
    "Kaffee rausdrücken 1:04 - 1:42\n",
    "\n",
    "1:04 - Knopf wird gedrückt\n",
    "1:04 - 1:10 Kaffee wird gemahlen\n",
    "1:10 - 1:15 Brühgruppe fährt nach oben / Gemahlener Kaffee wird gepresst\n",
    "1:18 - 1:20 Pulver wird kurz angefeuchtet und die Temperatur des Wassers wird reguliert\n",
    "1:24 - 1:38 Kaffee wird gebrüht\n",
    "1:38 - Kaffee fertig zur Entnahme\n",
    "1:38 - 1:42 Brühgruppe fährt in Ausgangsposition"
   ]
  },
  {
   "cell_type": "markdown",
   "id": "81de8b42",
   "metadata": {},
   "source": [
    "Demodaten Kaffee rausdrücken"
   ]
  },
  {
   "cell_type": "code",
   "execution_count": 2,
   "id": "7ca6ced1",
   "metadata": {},
   "outputs": [],
   "source": [
    "# Temperaturverlauf\n",
    "\n",
    "# Kaffee mahlen\n",
    "\n",
    "class CoffeeGrind:\n",
    "    def __init__(self, second: int, description: str):\n",
    "        self.second = second\n",
    "        self.description = description\n",
    "\n",
    "    def __repr__(self):\n",
    "        return f\"Sekunde {self.second}: {self.description}\"\n",
    "\n",
    "grinding = [\n",
    "    CoffeeGrind(second=i + 1, description=\"Kaffee wird gemahlen\")\n",
    "    for i in range(6)\n",
    "]\n",
    "\n",
    "# Brühgruppe hochfahren / pressen\n",
    "\n",
    "class CoffeePress:\n",
    "    def __init__(self, second: int, description: str):\n",
    "        self.second = second\n",
    "        self.description = description\n",
    "\n",
    "    def __repr__(self):\n",
    "        return f\"Sekunde {self.second}: {self.description}\"\n",
    "\n",
    "press = [\n",
    "    CoffeePress(second=i + 1, description=\"Kaffee wird gepresst\")\n",
    "    for i in range(5)\n",
    "]\n",
    "\n",
    "# Anfeuchten / Regulieren\n",
    "\n",
    "class PowderMoister:\n",
    "    def __init__(self, second: int, description: str):\n",
    "        self.second = second\n",
    "        self.description = description\n",
    "\n",
    "    def __repr__(self):\n",
    "        return f\"Sekunde {self.second}: {self.description}\"\n",
    "\n",
    "moisting = [\n",
    "    CoffeePress(second=i + 1, description=\"Kaffee wird angefeuchtet\")\n",
    "    for i in range(2)\n",
    "]\n",
    "\n",
    "# Brühen \n",
    "\n",
    "class CoffeeBrewing:\n",
    "    def __init__(self, second: int, description: str):\n",
    "        self.second = second\n",
    "        self.description = description\n",
    "\n",
    "    def __repr__(self):\n",
    "        return f\"Sekunde {self.second}: {self.description}\"\n",
    "\n",
    "brewing = [\n",
    "    CoffeeBrewing(second=i + 1, description=\"Kaffee wird gebrüht\")\n",
    "    for i in range(14)\n",
    "]\n",
    "\n",
    "# Brühgruppe runterfahren\n",
    "\n",
    "class BrewingUnitToStartPosition:\n",
    "    def __init__(self, second: int, description: str):\n",
    "        self.second = second\n",
    "        self.description = description\n",
    "\n",
    "    def __repr__(self):\n",
    "        return f\"Sekunde {self.second}: {self.description}\"\n",
    "\n",
    "toStartPosition = [\n",
    "    BrewingUnitToStartPosition(second=i + 1, description=\"Brüheinheit fährt in Startposition\")\n",
    "    for i in range(4)\n",
    "]"
   ]
  },
  {
   "cell_type": "markdown",
   "id": "cae6ef0c",
   "metadata": {},
   "source": [
    "Durchlauf von einem Kaffee der runtergedrückt wird"
   ]
  },
  {
   "cell_type": "code",
   "execution_count": 6,
   "id": "d8a0bfed",
   "metadata": {},
   "outputs": [
    {
     "name": "stdout",
     "output_type": "stream",
     "text": [
      "Sekunde 1: Kaffee wird gemahlen\n",
      "Sekunde 2: Kaffee wird gemahlen\n",
      "Sekunde 3: Kaffee wird gemahlen\n",
      "Sekunde 4: Kaffee wird gemahlen\n",
      "Sekunde 5: Kaffee wird gemahlen\n",
      "Sekunde 6: Kaffee wird gemahlen\n",
      "Sekunde 1: Kaffee wird gepresst\n",
      "Sekunde 2: Kaffee wird gepresst\n",
      "Sekunde 3: Kaffee wird gepresst\n",
      "Sekunde 4: Kaffee wird gepresst\n",
      "Sekunde 5: Kaffee wird gepresst\n",
      "Sekunde 1: Kaffee wird angefeuchtet\n",
      "Sekunde 2: Kaffee wird angefeuchtet\n",
      "Sekunde 1: Kaffee wird gebrüht\n",
      "Sekunde 2: Kaffee wird gebrüht\n",
      "Sekunde 3: Kaffee wird gebrüht\n",
      "Sekunde 4: Kaffee wird gebrüht\n",
      "Sekunde 5: Kaffee wird gebrüht\n",
      "Sekunde 6: Kaffee wird gebrüht\n",
      "Sekunde 7: Kaffee wird gebrüht\n",
      "Sekunde 8: Kaffee wird gebrüht\n",
      "Sekunde 9: Kaffee wird gebrüht\n",
      "Sekunde 10: Kaffee wird gebrüht\n",
      "Sekunde 11: Kaffee wird gebrüht\n",
      "Sekunde 12: Kaffee wird gebrüht\n",
      "Sekunde 13: Kaffee wird gebrüht\n",
      "Sekunde 14: Kaffee wird gebrüht\n",
      "Kaffee ist fertig\n",
      "Sekunde 1: Brüheinheit fährt in Startposition\n",
      "Sekunde 2: Brüheinheit fährt in Startposition\n",
      "Sekunde 3: Brüheinheit fährt in Startposition\n",
      "Sekunde 4: Brüheinheit fährt in Startposition\n"
     ]
    }
   ],
   "source": [
    "startProcess = input(\"Kaffee runterlassen (1) \")\n",
    "\n",
    "if startProcess := 1:\n",
    "    for sec in grinding:\n",
    "        print(sec)\n",
    "        time.sleep(1)\n",
    "    for sec in press:\n",
    "        print(sec)\n",
    "        time.sleep(1)\n",
    "    time.sleep(3)\n",
    "    for sec in moisting:\n",
    "        print(sec)\n",
    "        time.sleep(1)\n",
    "    time.sleep(4)\n",
    "    for sec in brewing:\n",
    "        print(sec)\n",
    "        time.sleep(1)\n",
    "    print(\"Kaffee ist fertig\")\n",
    "    time.sleep(1)\n",
    "    for sec in toStartPosition:\n",
    "        print(sec)\n",
    "        time.sleep(1)\n"
   ]
  }
 ],
 "metadata": {
  "kernelspec": {
   "display_name": "Python 3",
   "language": "python",
   "name": "python3"
  },
  "language_info": {
   "codemirror_mode": {
    "name": "ipython",
    "version": 3
   },
   "file_extension": ".py",
   "mimetype": "text/x-python",
   "name": "python",
   "nbconvert_exporter": "python",
   "pygments_lexer": "ipython3",
   "version": "3.12.3"
  }
 },
 "nbformat": 4,
 "nbformat_minor": 5
}
